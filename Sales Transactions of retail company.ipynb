{
 "cells": [
  {
   "cell_type": "markdown",
   "id": "f7686a90-58b6-439f-8f40-f029ca26ce1e",
   "metadata": {},
   "source": [
    "### Dataset Description:\n",
    "\n",
    "The attached dataset contains information about sales transactions including order date, order number, warehouse ID, store ID, item ID, amount per unit, ordered quantity, item discount, and expected delivery date."
   ]
  },
  {
   "cell_type": "markdown",
   "id": "c1332e23-36a7-4bf5-b348-aaf0acaf9b27",
   "metadata": {},
   "source": [
    "\n",
    " 1. Importing dataset into jupyter Notebook\n",
    " \n",
    " 2. Performing **Exploratory data analysis** with pandas and numpy to understand the structure, content, and characteristics of the datset"
   ]
  },
  {
   "cell_type": "code",
   "execution_count": 11,
   "id": "781fa03e-237a-48fb-82b4-5e8377d8a37d",
   "metadata": {},
   "outputs": [],
   "source": [
    "import pandas as pd \n",
    "import numpy as np\n",
    "import matplotlib.pyplot as plt\n",
    "import seaborn as sns\n",
    "from pandasql import sqldf\n",
    "pysqldf = lambda q: sqldf(q,(globals))\n",
    "import warnings\n",
    "warnings.filterwarnings('ignore')"
   ]
  },
  {
   "cell_type": "code",
   "execution_count": 12,
   "id": "a68a1575-1934-44c9-b51e-5f0a95fe5378",
   "metadata": {},
   "outputs": [],
   "source": [
    "df=pd.read_excel(r\"C:\\Users\\Anurag Singh\\OneDrive\\Desktop\\Case Study_retail_sales.xlsx\") "
   ]
  },
  {
   "cell_type": "code",
   "execution_count": 9,
   "id": "31aec3da-145d-4f99-aae1-0a091147b990",
   "metadata": {},
   "outputs": [
    {
     "data": {
      "text/html": [
       "<div>\n",
       "<style scoped>\n",
       "    .dataframe tbody tr th:only-of-type {\n",
       "        vertical-align: middle;\n",
       "    }\n",
       "\n",
       "    .dataframe tbody tr th {\n",
       "        vertical-align: top;\n",
       "    }\n",
       "\n",
       "    .dataframe thead th {\n",
       "        text-align: right;\n",
       "    }\n",
       "</style>\n",
       "<table border=\"1\" class=\"dataframe\">\n",
       "  <thead>\n",
       "    <tr style=\"text-align: right;\">\n",
       "      <th></th>\n",
       "      <th>order_date</th>\n",
       "      <th>order_number</th>\n",
       "      <th>order_warehouse_id</th>\n",
       "      <th>store_id</th>\n",
       "      <th>order_status</th>\n",
       "      <th>item_id</th>\n",
       "      <th>amount_per_unit</th>\n",
       "      <th>ordered_quantity</th>\n",
       "      <th>item_discount</th>\n",
       "      <th>expected_delivery_date</th>\n",
       "    </tr>\n",
       "  </thead>\n",
       "  <tbody>\n",
       "    <tr>\n",
       "      <th>0</th>\n",
       "      <td>14/02/2023</td>\n",
       "      <td>23045429724</td>\n",
       "      <td>9.0</td>\n",
       "      <td>pY85faVkR6OCPZQ0CefuH</td>\n",
       "      <td>CLOSED</td>\n",
       "      <td>P437048134760065132</td>\n",
       "      <td>281.0</td>\n",
       "      <td>1</td>\n",
       "      <td>0.0</td>\n",
       "      <td>15/02/2023</td>\n",
       "    </tr>\n",
       "    <tr>\n",
       "      <th>1</th>\n",
       "      <td>19/02/2023</td>\n",
       "      <td>23050463841</td>\n",
       "      <td>21.0</td>\n",
       "      <td>6FTIDJ65jt1arkhJm2bbmL</td>\n",
       "      <td>CLOSED</td>\n",
       "      <td>P5801744203932</td>\n",
       "      <td>75.0</td>\n",
       "      <td>10</td>\n",
       "      <td>0.0</td>\n",
       "      <td>20/02/2023</td>\n",
       "    </tr>\n",
       "    <tr>\n",
       "      <th>2</th>\n",
       "      <td>20/02/2023</td>\n",
       "      <td>23051024482</td>\n",
       "      <td>4.0</td>\n",
       "      <td>7JQvKYYMMCSzfni42DKw5a</td>\n",
       "      <td>CLOSED</td>\n",
       "      <td>P810622842427393343</td>\n",
       "      <td>5420.0</td>\n",
       "      <td>1</td>\n",
       "      <td>0.0</td>\n",
       "      <td>21/02/2023</td>\n",
       "    </tr>\n",
       "    <tr>\n",
       "      <th>3</th>\n",
       "      <td>2023-06-02 00:00:00</td>\n",
       "      <td>23037635371</td>\n",
       "      <td>4.0</td>\n",
       "      <td>6tjBYLZoWt70PUXokHPEit</td>\n",
       "      <td>CANCELLED</td>\n",
       "      <td>P957287950450245066</td>\n",
       "      <td>2600.0</td>\n",
       "      <td>50</td>\n",
       "      <td>0.0</td>\n",
       "      <td>2023-07-02 00:00:00</td>\n",
       "    </tr>\n",
       "    <tr>\n",
       "      <th>4</th>\n",
       "      <td>15/02/2023</td>\n",
       "      <td>23046508076</td>\n",
       "      <td>15.0</td>\n",
       "      <td>1w0FMk0J5K43sIqSZv9b5t</td>\n",
       "      <td>CLOSED</td>\n",
       "      <td>P862686710671848219</td>\n",
       "      <td>85.0</td>\n",
       "      <td>15</td>\n",
       "      <td>0.0</td>\n",
       "      <td>16/02/2023</td>\n",
       "    </tr>\n",
       "    <tr>\n",
       "      <th>5</th>\n",
       "      <td>21/02/2023</td>\n",
       "      <td>23052532574</td>\n",
       "      <td>12.0</td>\n",
       "      <td>3vwcvHtu7PrSUMxtG00pvx</td>\n",
       "      <td>CLOSED</td>\n",
       "      <td>P633024961236486666</td>\n",
       "      <td>4250.0</td>\n",
       "      <td>1</td>\n",
       "      <td>0.0</td>\n",
       "      <td>22/02/2023</td>\n",
       "    </tr>\n",
       "    <tr>\n",
       "      <th>6</th>\n",
       "      <td>2023-12-02 00:00:00</td>\n",
       "      <td>23043044604</td>\n",
       "      <td>8.0</td>\n",
       "      <td>3UGFKpnFuVDvxDGPgIgN2K</td>\n",
       "      <td>CLOSED</td>\n",
       "      <td>P313898182537862889</td>\n",
       "      <td>102.0</td>\n",
       "      <td>18</td>\n",
       "      <td>36.0</td>\n",
       "      <td>13/02/2023</td>\n",
       "    </tr>\n",
       "    <tr>\n",
       "      <th>7</th>\n",
       "      <td>2023-12-02 00:00:00</td>\n",
       "      <td>23043044604</td>\n",
       "      <td>8.0</td>\n",
       "      <td>3UGFKpnFuVDvxDGPgIgN2K</td>\n",
       "      <td>CLOSED</td>\n",
       "      <td>P905670013511056600</td>\n",
       "      <td>102.0</td>\n",
       "      <td>18</td>\n",
       "      <td>36.0</td>\n",
       "      <td>13/02/2023</td>\n",
       "    </tr>\n",
       "    <tr>\n",
       "      <th>8</th>\n",
       "      <td>26/02/2023</td>\n",
       "      <td>23057110587</td>\n",
       "      <td>21.0</td>\n",
       "      <td>4nT0iSKFr10HcjJIO6GuV3</td>\n",
       "      <td>CLOSED</td>\n",
       "      <td>P954493217287166262</td>\n",
       "      <td>161.0</td>\n",
       "      <td>10</td>\n",
       "      <td>0.0</td>\n",
       "      <td>27/02/2023</td>\n",
       "    </tr>\n",
       "    <tr>\n",
       "      <th>9</th>\n",
       "      <td>16/02/2023</td>\n",
       "      <td>23047727084</td>\n",
       "      <td>12.0</td>\n",
       "      <td>3iYnhucmLDizO25yOGGkTt</td>\n",
       "      <td>CLOSED</td>\n",
       "      <td>P141216907728180636</td>\n",
       "      <td>159.0</td>\n",
       "      <td>120</td>\n",
       "      <td>600.0</td>\n",
       "      <td>18/02/2023</td>\n",
       "    </tr>\n",
       "  </tbody>\n",
       "</table>\n",
       "</div>"
      ],
      "text/plain": [
       "            order_date  order_number  order_warehouse_id  \\\n",
       "0           14/02/2023   23045429724                 9.0   \n",
       "1           19/02/2023   23050463841                21.0   \n",
       "2           20/02/2023   23051024482                 4.0   \n",
       "3  2023-06-02 00:00:00   23037635371                 4.0   \n",
       "4           15/02/2023   23046508076                15.0   \n",
       "5           21/02/2023   23052532574                12.0   \n",
       "6  2023-12-02 00:00:00   23043044604                 8.0   \n",
       "7  2023-12-02 00:00:00   23043044604                 8.0   \n",
       "8           26/02/2023   23057110587                21.0   \n",
       "9           16/02/2023   23047727084                12.0   \n",
       "\n",
       "                 store_id order_status              item_id  amount_per_unit  \\\n",
       "0   pY85faVkR6OCPZQ0CefuH       CLOSED  P437048134760065132            281.0   \n",
       "1  6FTIDJ65jt1arkhJm2bbmL       CLOSED       P5801744203932             75.0   \n",
       "2  7JQvKYYMMCSzfni42DKw5a       CLOSED  P810622842427393343           5420.0   \n",
       "3  6tjBYLZoWt70PUXokHPEit    CANCELLED  P957287950450245066           2600.0   \n",
       "4  1w0FMk0J5K43sIqSZv9b5t       CLOSED  P862686710671848219             85.0   \n",
       "5  3vwcvHtu7PrSUMxtG00pvx       CLOSED  P633024961236486666           4250.0   \n",
       "6  3UGFKpnFuVDvxDGPgIgN2K       CLOSED  P313898182537862889            102.0   \n",
       "7  3UGFKpnFuVDvxDGPgIgN2K       CLOSED  P905670013511056600            102.0   \n",
       "8  4nT0iSKFr10HcjJIO6GuV3       CLOSED  P954493217287166262            161.0   \n",
       "9  3iYnhucmLDizO25yOGGkTt       CLOSED  P141216907728180636            159.0   \n",
       "\n",
       "   ordered_quantity  item_discount expected_delivery_date  \n",
       "0                 1            0.0             15/02/2023  \n",
       "1                10            0.0             20/02/2023  \n",
       "2                 1            0.0             21/02/2023  \n",
       "3                50            0.0    2023-07-02 00:00:00  \n",
       "4                15            0.0             16/02/2023  \n",
       "5                 1            0.0             22/02/2023  \n",
       "6                18           36.0             13/02/2023  \n",
       "7                18           36.0             13/02/2023  \n",
       "8                10            0.0             27/02/2023  \n",
       "9               120          600.0             18/02/2023  "
      ]
     },
     "execution_count": 9,
     "metadata": {},
     "output_type": "execute_result"
    }
   ],
   "source": [
    "df.head(10)"
   ]
  },
  {
   "cell_type": "code",
   "execution_count": 13,
   "id": "0e1d0416-ac23-4f9b-bdf5-82025b2c444b",
   "metadata": {},
   "outputs": [
    {
     "data": {
      "text/html": [
       "<div>\n",
       "<style scoped>\n",
       "    .dataframe tbody tr th:only-of-type {\n",
       "        vertical-align: middle;\n",
       "    }\n",
       "\n",
       "    .dataframe tbody tr th {\n",
       "        vertical-align: top;\n",
       "    }\n",
       "\n",
       "    .dataframe thead th {\n",
       "        text-align: right;\n",
       "    }\n",
       "</style>\n",
       "<table border=\"1\" class=\"dataframe\">\n",
       "  <thead>\n",
       "    <tr style=\"text-align: right;\">\n",
       "      <th></th>\n",
       "      <th>order_date</th>\n",
       "      <th>order_number</th>\n",
       "      <th>order_warehouse_id</th>\n",
       "      <th>store_id</th>\n",
       "      <th>order_status</th>\n",
       "      <th>item_id</th>\n",
       "      <th>amount_per_unit</th>\n",
       "      <th>ordered_quantity</th>\n",
       "      <th>item_discount</th>\n",
       "      <th>expected_delivery_date</th>\n",
       "    </tr>\n",
       "  </thead>\n",
       "  <tbody>\n",
       "    <tr>\n",
       "      <th>24995</th>\n",
       "      <td>2023-08-02 00:00:00</td>\n",
       "      <td>23039798547</td>\n",
       "      <td>2.0</td>\n",
       "      <td>3X1H0MhNAM8OPZnGoTzjd0</td>\n",
       "      <td>CLOSED</td>\n",
       "      <td>P398009754998078719</td>\n",
       "      <td>90.0</td>\n",
       "      <td>1</td>\n",
       "      <td>0.0</td>\n",
       "      <td>2023-09-02 00:00:00</td>\n",
       "    </tr>\n",
       "    <tr>\n",
       "      <th>24996</th>\n",
       "      <td>22/02/2023</td>\n",
       "      <td>23053666099</td>\n",
       "      <td>9.0</td>\n",
       "      <td>2MnytVhNnCYQxbrlfXCUxC</td>\n",
       "      <td>CLOSED</td>\n",
       "      <td>P625735472986144560</td>\n",
       "      <td>790.0</td>\n",
       "      <td>17</td>\n",
       "      <td>0.0</td>\n",
       "      <td>23/02/2023</td>\n",
       "    </tr>\n",
       "    <tr>\n",
       "      <th>24997</th>\n",
       "      <td>26/02/2023</td>\n",
       "      <td>23057551977</td>\n",
       "      <td>2.0</td>\n",
       "      <td>7ZCb3sJxNRNI0z0icC4G3a</td>\n",
       "      <td>CLOSED</td>\n",
       "      <td>P834614614079148685</td>\n",
       "      <td>1160.0</td>\n",
       "      <td>1</td>\n",
       "      <td>0.0</td>\n",
       "      <td>27/02/2023</td>\n",
       "    </tr>\n",
       "    <tr>\n",
       "      <th>24998</th>\n",
       "      <td>26/02/2023</td>\n",
       "      <td>23057551977</td>\n",
       "      <td>2.0</td>\n",
       "      <td>7ZCb3sJxNRNI0z0icC4G3a</td>\n",
       "      <td>CLOSED</td>\n",
       "      <td>P5805357072540</td>\n",
       "      <td>535.0</td>\n",
       "      <td>1</td>\n",
       "      <td>0.0</td>\n",
       "      <td>27/02/2023</td>\n",
       "    </tr>\n",
       "    <tr>\n",
       "      <th>24999</th>\n",
       "      <td>26/02/2023</td>\n",
       "      <td>23057551977</td>\n",
       "      <td>2.0</td>\n",
       "      <td>7ZCb3sJxNRNI0z0icC4G3a</td>\n",
       "      <td>CLOSED</td>\n",
       "      <td>P966841399164426955</td>\n",
       "      <td>99.0</td>\n",
       "      <td>3</td>\n",
       "      <td>0.0</td>\n",
       "      <td>27/02/2023</td>\n",
       "    </tr>\n",
       "  </tbody>\n",
       "</table>\n",
       "</div>"
      ],
      "text/plain": [
       "                order_date  order_number  order_warehouse_id  \\\n",
       "24995  2023-08-02 00:00:00   23039798547                 2.0   \n",
       "24996           22/02/2023   23053666099                 9.0   \n",
       "24997           26/02/2023   23057551977                 2.0   \n",
       "24998           26/02/2023   23057551977                 2.0   \n",
       "24999           26/02/2023   23057551977                 2.0   \n",
       "\n",
       "                     store_id order_status              item_id  \\\n",
       "24995  3X1H0MhNAM8OPZnGoTzjd0       CLOSED  P398009754998078719   \n",
       "24996  2MnytVhNnCYQxbrlfXCUxC       CLOSED  P625735472986144560   \n",
       "24997  7ZCb3sJxNRNI0z0icC4G3a       CLOSED  P834614614079148685   \n",
       "24998  7ZCb3sJxNRNI0z0icC4G3a       CLOSED       P5805357072540   \n",
       "24999  7ZCb3sJxNRNI0z0icC4G3a       CLOSED  P966841399164426955   \n",
       "\n",
       "       amount_per_unit  ordered_quantity  item_discount expected_delivery_date  \n",
       "24995             90.0                 1            0.0    2023-09-02 00:00:00  \n",
       "24996            790.0                17            0.0             23/02/2023  \n",
       "24997           1160.0                 1            0.0             27/02/2023  \n",
       "24998            535.0                 1            0.0             27/02/2023  \n",
       "24999             99.0                 3            0.0             27/02/2023  "
      ]
     },
     "execution_count": 13,
     "metadata": {},
     "output_type": "execute_result"
    }
   ],
   "source": [
    "df.tail()"
   ]
  },
  {
   "cell_type": "markdown",
   "id": "f727c37c-d434-4fa4-93a8-9431f4e110a9",
   "metadata": {},
   "source": [
    "**EXPLORING DATASET**"
   ]
  },
  {
   "cell_type": "code",
   "execution_count": 10,
   "id": "b9536c24-3045-4a32-be97-337036a4a125",
   "metadata": {},
   "outputs": [
    {
     "data": {
      "text/plain": [
       "Index(['order_date', 'order_number', 'order_warehouse_id', 'store_id',\n",
       "       'order_status', 'item_id', 'amount_per_unit', 'ordered_quantity',\n",
       "       'item_discount', 'expected_delivery_date'],\n",
       "      dtype='object')"
      ]
     },
     "execution_count": 10,
     "metadata": {},
     "output_type": "execute_result"
    }
   ],
   "source": [
    "df.columns"
   ]
  },
  {
   "cell_type": "code",
   "execution_count": 15,
   "id": "5c7d230e-2291-441c-b210-a729ff6ae739",
   "metadata": {},
   "outputs": [
    {
     "data": {
      "text/plain": [
       "order_date                 object\n",
       "order_number                int64\n",
       "order_warehouse_id        float64\n",
       "store_id                   object\n",
       "order_status               object\n",
       "item_id                    object\n",
       "amount_per_unit           float64\n",
       "ordered_quantity            int64\n",
       "item_discount             float64\n",
       "expected_delivery_date     object\n",
       "dtype: object"
      ]
     },
     "execution_count": 15,
     "metadata": {},
     "output_type": "execute_result"
    }
   ],
   "source": [
    "df.dtypes"
   ]
  },
  {
   "cell_type": "code",
   "execution_count": 21,
   "id": "33b04a96-2e49-4ded-a58d-a90bcac49beb",
   "metadata": {},
   "outputs": [
    {
     "name": "stdout",
     "output_type": "stream",
     "text": [
      "<class 'pandas.core.frame.DataFrame'>\n",
      "RangeIndex: 25000 entries, 0 to 24999\n",
      "Data columns (total 10 columns):\n",
      " #   Column                  Non-Null Count  Dtype  \n",
      "---  ------                  --------------  -----  \n",
      " 0   order_date              25000 non-null  object \n",
      " 1   order_number            25000 non-null  int64  \n",
      " 2   order_warehouse_id      24995 non-null  float64\n",
      " 3   store_id                25000 non-null  object \n",
      " 4   order_status            25000 non-null  object \n",
      " 5   item_id                 25000 non-null  object \n",
      " 6   amount_per_unit         25000 non-null  float64\n",
      " 7   ordered_quantity        25000 non-null  int64  \n",
      " 8   item_discount           25000 non-null  float64\n",
      " 9   expected_delivery_date  25000 non-null  object \n",
      "dtypes: float64(3), int64(2), object(5)\n",
      "memory usage: 1.9+ MB\n"
     ]
    }
   ],
   "source": [
    "\n",
    "df.info()"
   ]
  },
  {
   "cell_type": "code",
   "execution_count": 16,
   "id": "6ed0bb4c-3bd8-4dcc-ad3d-f8d46438afc3",
   "metadata": {},
   "outputs": [
    {
     "data": {
      "text/plain": [
       "(25000, 10)"
      ]
     },
     "execution_count": 16,
     "metadata": {},
     "output_type": "execute_result"
    }
   ],
   "source": [
    "df.shape"
   ]
  },
  {
   "cell_type": "code",
   "execution_count": 17,
   "id": "d561f194-5c76-4b2e-bb3d-4430c0c4a526",
   "metadata": {},
   "outputs": [
    {
     "data": {
      "text/plain": [
       "order_date                0\n",
       "order_number              0\n",
       "order_warehouse_id        5\n",
       "store_id                  0\n",
       "order_status              0\n",
       "item_id                   0\n",
       "amount_per_unit           0\n",
       "ordered_quantity          0\n",
       "item_discount             0\n",
       "expected_delivery_date    0\n",
       "dtype: int64"
      ]
     },
     "execution_count": 17,
     "metadata": {},
     "output_type": "execute_result"
    }
   ],
   "source": [
    "df.isnull().sum()"
   ]
  },
  {
   "cell_type": "code",
   "execution_count": 18,
   "id": "f2d8f409-f8f3-4566-b4fa-cfed65f9524b",
   "metadata": {},
   "outputs": [
    {
     "data": {
      "text/plain": [
       "0"
      ]
     },
     "execution_count": 18,
     "metadata": {},
     "output_type": "execute_result"
    }
   ],
   "source": [
    "df.duplicated().sum()"
   ]
  },
  {
   "cell_type": "markdown",
   "id": "24497099-9a2c-4428-943c-3d22c5db3f56",
   "metadata": {},
   "source": [
    "**STASTICAL SUMMARY**"
   ]
  },
  {
   "cell_type": "code",
   "execution_count": 19,
   "id": "5f4a3b00-b7fc-4c4c-9652-9621164727ee",
   "metadata": {},
   "outputs": [
    {
     "data": {
      "text/html": [
       "<div>\n",
       "<style scoped>\n",
       "    .dataframe tbody tr th:only-of-type {\n",
       "        vertical-align: middle;\n",
       "    }\n",
       "\n",
       "    .dataframe tbody tr th {\n",
       "        vertical-align: top;\n",
       "    }\n",
       "\n",
       "    .dataframe thead th {\n",
       "        text-align: right;\n",
       "    }\n",
       "</style>\n",
       "<table border=\"1\" class=\"dataframe\">\n",
       "  <thead>\n",
       "    <tr style=\"text-align: right;\">\n",
       "      <th></th>\n",
       "      <th>count</th>\n",
       "      <th>mean</th>\n",
       "      <th>std</th>\n",
       "      <th>min</th>\n",
       "      <th>25%</th>\n",
       "      <th>50%</th>\n",
       "      <th>75%</th>\n",
       "      <th>max</th>\n",
       "    </tr>\n",
       "  </thead>\n",
       "  <tbody>\n",
       "    <tr>\n",
       "      <th>order_number</th>\n",
       "      <td>25000.0</td>\n",
       "      <td>2.304558e+10</td>\n",
       "      <td>8.038898e+06</td>\n",
       "      <td>2.303200e+10</td>\n",
       "      <td>2.303875e+10</td>\n",
       "      <td>2.304526e+10</td>\n",
       "      <td>2.305248e+10</td>\n",
       "      <td>2.306000e+10</td>\n",
       "    </tr>\n",
       "    <tr>\n",
       "      <th>order_warehouse_id</th>\n",
       "      <td>24995.0</td>\n",
       "      <td>6.437768e+00</td>\n",
       "      <td>4.700002e+00</td>\n",
       "      <td>2.000000e+00</td>\n",
       "      <td>3.000000e+00</td>\n",
       "      <td>4.000000e+00</td>\n",
       "      <td>1.100000e+01</td>\n",
       "      <td>5.000000e+01</td>\n",
       "    </tr>\n",
       "    <tr>\n",
       "      <th>amount_per_unit</th>\n",
       "      <td>25000.0</td>\n",
       "      <td>1.257726e+03</td>\n",
       "      <td>3.016888e+03</td>\n",
       "      <td>0.000000e+00</td>\n",
       "      <td>1.500000e+02</td>\n",
       "      <td>3.060000e+02</td>\n",
       "      <td>1.170250e+03</td>\n",
       "      <td>1.100000e+05</td>\n",
       "    </tr>\n",
       "    <tr>\n",
       "      <th>ordered_quantity</th>\n",
       "      <td>25000.0</td>\n",
       "      <td>2.284188e+01</td>\n",
       "      <td>2.531515e+03</td>\n",
       "      <td>1.000000e+00</td>\n",
       "      <td>1.000000e+00</td>\n",
       "      <td>2.000000e+00</td>\n",
       "      <td>4.000000e+00</td>\n",
       "      <td>4.000000e+05</td>\n",
       "    </tr>\n",
       "    <tr>\n",
       "      <th>item_discount</th>\n",
       "      <td>25000.0</td>\n",
       "      <td>-6.299190e+03</td>\n",
       "      <td>1.011959e+06</td>\n",
       "      <td>-1.600000e+08</td>\n",
       "      <td>0.000000e+00</td>\n",
       "      <td>0.000000e+00</td>\n",
       "      <td>0.000000e+00</td>\n",
       "      <td>9.274760e+05</td>\n",
       "    </tr>\n",
       "  </tbody>\n",
       "</table>\n",
       "</div>"
      ],
      "text/plain": [
       "                      count          mean           std           min  \\\n",
       "order_number        25000.0  2.304558e+10  8.038898e+06  2.303200e+10   \n",
       "order_warehouse_id  24995.0  6.437768e+00  4.700002e+00  2.000000e+00   \n",
       "amount_per_unit     25000.0  1.257726e+03  3.016888e+03  0.000000e+00   \n",
       "ordered_quantity    25000.0  2.284188e+01  2.531515e+03  1.000000e+00   \n",
       "item_discount       25000.0 -6.299190e+03  1.011959e+06 -1.600000e+08   \n",
       "\n",
       "                             25%           50%           75%           max  \n",
       "order_number        2.303875e+10  2.304526e+10  2.305248e+10  2.306000e+10  \n",
       "order_warehouse_id  3.000000e+00  4.000000e+00  1.100000e+01  5.000000e+01  \n",
       "amount_per_unit     1.500000e+02  3.060000e+02  1.170250e+03  1.100000e+05  \n",
       "ordered_quantity    1.000000e+00  2.000000e+00  4.000000e+00  4.000000e+05  \n",
       "item_discount       0.000000e+00  0.000000e+00  0.000000e+00  9.274760e+05  "
      ]
     },
     "execution_count": 19,
     "metadata": {},
     "output_type": "execute_result"
    }
   ],
   "source": [
    "df.describe().T"
   ]
  },
  {
   "cell_type": "code",
   "execution_count": 17,
   "id": "b4c22fff-947c-49c1-8c4a-f24a1279c3cd",
   "metadata": {},
   "outputs": [
    {
     "data": {
      "text/plain": [
       "17505"
      ]
     },
     "execution_count": 17,
     "metadata": {},
     "output_type": "execute_result"
    }
   ],
   "source": [
    "df[\"order_number\"].duplicated().sum()"
   ]
  },
  {
   "cell_type": "markdown",
   "id": "1f1ebcc7-769b-45bc-96c6-710d4819766c",
   "metadata": {},
   "source": [
    "**Data Exploration with SQL¶**\r\n"
   ]
  },
  {
   "cell_type": "code",
   "execution_count": 13,
   "id": "1d942560-3e8b-4092-a046-dd1811b79445",
   "metadata": {},
   "outputs": [
    {
     "data": {
      "text/html": [
       "<div>\n",
       "<style scoped>\n",
       "    .dataframe tbody tr th:only-of-type {\n",
       "        vertical-align: middle;\n",
       "    }\n",
       "\n",
       "    .dataframe tbody tr th {\n",
       "        vertical-align: top;\n",
       "    }\n",
       "\n",
       "    .dataframe thead th {\n",
       "        text-align: right;\n",
       "    }\n",
       "</style>\n",
       "<table border=\"1\" class=\"dataframe\">\n",
       "  <thead>\n",
       "    <tr style=\"text-align: right;\">\n",
       "      <th></th>\n",
       "      <th>order_date</th>\n",
       "      <th>order_number</th>\n",
       "      <th>order_warehouse_id</th>\n",
       "      <th>store_id</th>\n",
       "      <th>order_status</th>\n",
       "      <th>item_id</th>\n",
       "      <th>amount_per_unit</th>\n",
       "      <th>ordered_quantity</th>\n",
       "      <th>item_discount</th>\n",
       "      <th>expected_delivery_date</th>\n",
       "    </tr>\n",
       "  </thead>\n",
       "  <tbody>\n",
       "    <tr>\n",
       "      <th>0</th>\n",
       "      <td>14/02/2023</td>\n",
       "      <td>23045429724</td>\n",
       "      <td>9.0</td>\n",
       "      <td>pY85faVkR6OCPZQ0CefuH</td>\n",
       "      <td>CLOSED</td>\n",
       "      <td>P437048134760065132</td>\n",
       "      <td>281.0</td>\n",
       "      <td>1</td>\n",
       "      <td>0.0</td>\n",
       "      <td>15/02/2023</td>\n",
       "    </tr>\n",
       "    <tr>\n",
       "      <th>1</th>\n",
       "      <td>19/02/2023</td>\n",
       "      <td>23050463841</td>\n",
       "      <td>21.0</td>\n",
       "      <td>6FTIDJ65jt1arkhJm2bbmL</td>\n",
       "      <td>CLOSED</td>\n",
       "      <td>P5801744203932</td>\n",
       "      <td>75.0</td>\n",
       "      <td>10</td>\n",
       "      <td>0.0</td>\n",
       "      <td>20/02/2023</td>\n",
       "    </tr>\n",
       "    <tr>\n",
       "      <th>2</th>\n",
       "      <td>20/02/2023</td>\n",
       "      <td>23051024482</td>\n",
       "      <td>4.0</td>\n",
       "      <td>7JQvKYYMMCSzfni42DKw5a</td>\n",
       "      <td>CLOSED</td>\n",
       "      <td>P810622842427393343</td>\n",
       "      <td>5420.0</td>\n",
       "      <td>1</td>\n",
       "      <td>0.0</td>\n",
       "      <td>21/02/2023</td>\n",
       "    </tr>\n",
       "    <tr>\n",
       "      <th>3</th>\n",
       "      <td>2023-06-02 00:00:00</td>\n",
       "      <td>23037635371</td>\n",
       "      <td>4.0</td>\n",
       "      <td>6tjBYLZoWt70PUXokHPEit</td>\n",
       "      <td>CANCELLED</td>\n",
       "      <td>P957287950450245066</td>\n",
       "      <td>2600.0</td>\n",
       "      <td>50</td>\n",
       "      <td>0.0</td>\n",
       "      <td>2023-07-02 00:00:00</td>\n",
       "    </tr>\n",
       "    <tr>\n",
       "      <th>4</th>\n",
       "      <td>15/02/2023</td>\n",
       "      <td>23046508076</td>\n",
       "      <td>15.0</td>\n",
       "      <td>1w0FMk0J5K43sIqSZv9b5t</td>\n",
       "      <td>CLOSED</td>\n",
       "      <td>P862686710671848219</td>\n",
       "      <td>85.0</td>\n",
       "      <td>15</td>\n",
       "      <td>0.0</td>\n",
       "      <td>16/02/2023</td>\n",
       "    </tr>\n",
       "  </tbody>\n",
       "</table>\n",
       "</div>"
      ],
      "text/plain": [
       "            order_date  order_number  order_warehouse_id  \\\n",
       "0           14/02/2023   23045429724                 9.0   \n",
       "1           19/02/2023   23050463841                21.0   \n",
       "2           20/02/2023   23051024482                 4.0   \n",
       "3  2023-06-02 00:00:00   23037635371                 4.0   \n",
       "4           15/02/2023   23046508076                15.0   \n",
       "\n",
       "                 store_id order_status              item_id  amount_per_unit  \\\n",
       "0   pY85faVkR6OCPZQ0CefuH       CLOSED  P437048134760065132            281.0   \n",
       "1  6FTIDJ65jt1arkhJm2bbmL       CLOSED       P5801744203932             75.0   \n",
       "2  7JQvKYYMMCSzfni42DKw5a       CLOSED  P810622842427393343           5420.0   \n",
       "3  6tjBYLZoWt70PUXokHPEit    CANCELLED  P957287950450245066           2600.0   \n",
       "4  1w0FMk0J5K43sIqSZv9b5t       CLOSED  P862686710671848219             85.0   \n",
       "\n",
       "   ordered_quantity  item_discount expected_delivery_date  \n",
       "0                 1            0.0             15/02/2023  \n",
       "1                10            0.0             20/02/2023  \n",
       "2                 1            0.0             21/02/2023  \n",
       "3                50            0.0    2023-07-02 00:00:00  \n",
       "4                15            0.0             16/02/2023  "
      ]
     },
     "execution_count": 13,
     "metadata": {},
     "output_type": "execute_result"
    }
   ],
   "source": [
    "sqldf('''SELECT * \n",
    "         FROM df\n",
    "         LIMIT 5\n",
    "         ''')"
   ]
  },
  {
   "cell_type": "code",
   "execution_count": 14,
   "id": "01dbb1c6-e807-496f-b778-f50ad69d486d",
   "metadata": {},
   "outputs": [
    {
     "data": {
      "text/html": [
       "<div>\n",
       "<style scoped>\n",
       "    .dataframe tbody tr th:only-of-type {\n",
       "        vertical-align: middle;\n",
       "    }\n",
       "\n",
       "    .dataframe tbody tr th {\n",
       "        vertical-align: top;\n",
       "    }\n",
       "\n",
       "    .dataframe thead th {\n",
       "        text-align: right;\n",
       "    }\n",
       "</style>\n",
       "<table border=\"1\" class=\"dataframe\">\n",
       "  <thead>\n",
       "    <tr style=\"text-align: right;\">\n",
       "      <th></th>\n",
       "      <th>Total_Number_of_Orders</th>\n",
       "    </tr>\n",
       "  </thead>\n",
       "  <tbody>\n",
       "    <tr>\n",
       "      <th>0</th>\n",
       "      <td>7495</td>\n",
       "    </tr>\n",
       "  </tbody>\n",
       "</table>\n",
       "</div>"
      ],
      "text/plain": [
       "   Total_Number_of_Orders\n",
       "0                    7495"
      ]
     },
     "execution_count": 14,
     "metadata": {},
     "output_type": "execute_result"
    }
   ],
   "source": [
    "sqldf('''\n",
    "         SELECT COUNT(DISTINCT order_number) AS Total_Number_of_Orders\n",
    "         FROM df\n",
    "         ''')"
   ]
  },
  {
   "cell_type": "markdown",
   "id": "2061a50f-6894-4b9a-83c6-f4ab3787858f",
   "metadata": {},
   "source": [
    "Total Sales Revenue"
   ]
  },
  {
   "cell_type": "code",
   "execution_count": 15,
   "id": "836d0e65-81ab-4c6b-9adc-1036522af9a5",
   "metadata": {},
   "outputs": [
    {
     "data": {
      "text/html": [
       "<div>\n",
       "<style scoped>\n",
       "    .dataframe tbody tr th:only-of-type {\n",
       "        vertical-align: middle;\n",
       "    }\n",
       "\n",
       "    .dataframe tbody tr th {\n",
       "        vertical-align: top;\n",
       "    }\n",
       "\n",
       "    .dataframe thead th {\n",
       "        text-align: right;\n",
       "    }\n",
       "</style>\n",
       "<table border=\"1\" class=\"dataframe\">\n",
       "  <thead>\n",
       "    <tr style=\"text-align: right;\">\n",
       "      <th></th>\n",
       "      <th>Total_Revenue</th>\n",
       "    </tr>\n",
       "  </thead>\n",
       "  <tbody>\n",
       "    <tr>\n",
       "      <th>0</th>\n",
       "      <td>1.154412e+08</td>\n",
       "    </tr>\n",
       "  </tbody>\n",
       "</table>\n",
       "</div>"
      ],
      "text/plain": [
       "   Total_Revenue\n",
       "0   1.154412e+08"
      ]
     },
     "execution_count": 15,
     "metadata": {},
     "output_type": "execute_result"
    }
   ],
   "source": [
    "sqldf('''\n",
    "        SELECT SUM((ordered_quantity * amount_per_unit-ABS(item_discount)))AS Total_Revenue\n",
    "        FROM df\n",
    "        ''')"
   ]
  },
  {
   "cell_type": "markdown",
   "id": "a9df53e8-2c96-4cd3-83a1-c2e745ab660b",
   "metadata": {},
   "source": [
    "Average Order Quantity"
   ]
  },
  {
   "cell_type": "code",
   "execution_count": 16,
   "id": "dcd11ea7-24f5-4f65-b884-d53720372b22",
   "metadata": {},
   "outputs": [
    {
     "data": {
      "text/html": [
       "<div>\n",
       "<style scoped>\n",
       "    .dataframe tbody tr th:only-of-type {\n",
       "        vertical-align: middle;\n",
       "    }\n",
       "\n",
       "    .dataframe tbody tr th {\n",
       "        vertical-align: top;\n",
       "    }\n",
       "\n",
       "    .dataframe thead th {\n",
       "        text-align: right;\n",
       "    }\n",
       "</style>\n",
       "<table border=\"1\" class=\"dataframe\">\n",
       "  <thead>\n",
       "    <tr style=\"text-align: right;\">\n",
       "      <th></th>\n",
       "      <th>Average_ordered_quantity</th>\n",
       "    </tr>\n",
       "  </thead>\n",
       "  <tbody>\n",
       "    <tr>\n",
       "      <th>0</th>\n",
       "      <td>22.84188</td>\n",
       "    </tr>\n",
       "  </tbody>\n",
       "</table>\n",
       "</div>"
      ],
      "text/plain": [
       "   Average_ordered_quantity\n",
       "0                  22.84188"
      ]
     },
     "execution_count": 16,
     "metadata": {},
     "output_type": "execute_result"
    }
   ],
   "source": [
    "sqldf('''\n",
    "        SELECT AVG(ordered_quantity)AS Average_ordered_quantity\n",
    "        FROM df\n",
    "        ''')"
   ]
  },
  {
   "cell_type": "markdown",
   "id": "56f612d5-c58b-446e-8ea9-b52e523f0159",
   "metadata": {},
   "source": [
    " Distribution of orders by warehouse and store"
   ]
  },
  {
   "cell_type": "code",
   "execution_count": 24,
   "id": "d2d5eda1-d7ca-4e08-8d66-6fb6bdcef7f6",
   "metadata": {},
   "outputs": [
    {
     "data": {
      "text/html": [
       "<div>\n",
       "<style scoped>\n",
       "    .dataframe tbody tr th:only-of-type {\n",
       "        vertical-align: middle;\n",
       "    }\n",
       "\n",
       "    .dataframe tbody tr th {\n",
       "        vertical-align: top;\n",
       "    }\n",
       "\n",
       "    .dataframe thead th {\n",
       "        text-align: right;\n",
       "    }\n",
       "</style>\n",
       "<table border=\"1\" class=\"dataframe\">\n",
       "  <thead>\n",
       "    <tr style=\"text-align: right;\">\n",
       "      <th></th>\n",
       "      <th>warehouse</th>\n",
       "      <th>store</th>\n",
       "      <th>Distribution_by_orders</th>\n",
       "    </tr>\n",
       "  </thead>\n",
       "  <tbody>\n",
       "    <tr>\n",
       "      <th>0</th>\n",
       "      <td>2.0</td>\n",
       "      <td>3690100000000</td>\n",
       "      <td>5</td>\n",
       "    </tr>\n",
       "    <tr>\n",
       "      <th>1</th>\n",
       "      <td>2.0</td>\n",
       "      <td>6HEvbEzF3K1C30aODVWMDt</td>\n",
       "      <td>5</td>\n",
       "    </tr>\n",
       "    <tr>\n",
       "      <th>2</th>\n",
       "      <td>5.0</td>\n",
       "      <td>2lB2SBi7xRUgcwRUQUQfz6</td>\n",
       "      <td>5</td>\n",
       "    </tr>\n",
       "    <tr>\n",
       "      <th>3</th>\n",
       "      <td>2.0</td>\n",
       "      <td>13E6LBIMxkngJnp8pjbpXx</td>\n",
       "      <td>4</td>\n",
       "    </tr>\n",
       "    <tr>\n",
       "      <th>4</th>\n",
       "      <td>2.0</td>\n",
       "      <td>4Fnx5nkCgntmmf1XUcoboG</td>\n",
       "      <td>4</td>\n",
       "    </tr>\n",
       "    <tr>\n",
       "      <th>5</th>\n",
       "      <td>3.0</td>\n",
       "      <td>6UyUgl1SS9Dql0CZ1hIcuM</td>\n",
       "      <td>4</td>\n",
       "    </tr>\n",
       "    <tr>\n",
       "      <th>6</th>\n",
       "      <td>5.0</td>\n",
       "      <td>2U17Us8uSb404R05Tb8MOJ</td>\n",
       "      <td>4</td>\n",
       "    </tr>\n",
       "    <tr>\n",
       "      <th>7</th>\n",
       "      <td>5.0</td>\n",
       "      <td>4yMY1r3kwuZCmTyZiDK5e3</td>\n",
       "      <td>4</td>\n",
       "    </tr>\n",
       "    <tr>\n",
       "      <th>8</th>\n",
       "      <td>5.0</td>\n",
       "      <td>5Z9nuEI00ckNutQYNFmnOy</td>\n",
       "      <td>4</td>\n",
       "    </tr>\n",
       "    <tr>\n",
       "      <th>9</th>\n",
       "      <td>5.0</td>\n",
       "      <td>7136rrDwj9ULZd4MfYm7e5</td>\n",
       "      <td>4</td>\n",
       "    </tr>\n",
       "  </tbody>\n",
       "</table>\n",
       "</div>"
      ],
      "text/plain": [
       "   warehouse                   store  Distribution_by_orders\n",
       "0        2.0           3690100000000                       5\n",
       "1        2.0  6HEvbEzF3K1C30aODVWMDt                       5\n",
       "2        5.0  2lB2SBi7xRUgcwRUQUQfz6                       5\n",
       "3        2.0  13E6LBIMxkngJnp8pjbpXx                       4\n",
       "4        2.0  4Fnx5nkCgntmmf1XUcoboG                       4\n",
       "5        3.0  6UyUgl1SS9Dql0CZ1hIcuM                       4\n",
       "6        5.0  2U17Us8uSb404R05Tb8MOJ                       4\n",
       "7        5.0  4yMY1r3kwuZCmTyZiDK5e3                       4\n",
       "8        5.0  5Z9nuEI00ckNutQYNFmnOy                       4\n",
       "9        5.0  7136rrDwj9ULZd4MfYm7e5                       4"
      ]
     },
     "execution_count": 24,
     "metadata": {},
     "output_type": "execute_result"
    }
   ],
   "source": [
    "sqldf('''\n",
    "    SELECT order_warehouse_id AS warehouse,\n",
    "        store_id AS store ,\n",
    "        COUNT(DISTINCT order_number)AS Distribution_by_orders\n",
    "    FROM df\n",
    "    GROUP BY order_warehouse_id, store_id\n",
    "    HAVING warehouse IS NOT NULL\n",
    "    ORDER BY Distribution_by_orders DESC\n",
    "    LIMIT 10\n",
    "    ''')\n",
    "    \n"
   ]
  },
  {
   "cell_type": "markdown",
   "id": "83a7de97-40e7-43a5-9b2f-31f360416655",
   "metadata": {},
   "source": [
    "Distribution of orders by warehouse"
   ]
  },
  {
   "cell_type": "code",
   "execution_count": 25,
   "id": "bc83b865-bbdb-4841-a02d-c1192726fbbd",
   "metadata": {},
   "outputs": [
    {
     "data": {
      "text/html": [
       "<div>\n",
       "<style scoped>\n",
       "    .dataframe tbody tr th:only-of-type {\n",
       "        vertical-align: middle;\n",
       "    }\n",
       "\n",
       "    .dataframe tbody tr th {\n",
       "        vertical-align: top;\n",
       "    }\n",
       "\n",
       "    .dataframe thead th {\n",
       "        text-align: right;\n",
       "    }\n",
       "</style>\n",
       "<table border=\"1\" class=\"dataframe\">\n",
       "  <thead>\n",
       "    <tr style=\"text-align: right;\">\n",
       "      <th></th>\n",
       "      <th>warehouse</th>\n",
       "      <th>Distribution_by_orders</th>\n",
       "    </tr>\n",
       "  </thead>\n",
       "  <tbody>\n",
       "    <tr>\n",
       "      <th>0</th>\n",
       "      <td>3.0</td>\n",
       "      <td>1651</td>\n",
       "    </tr>\n",
       "    <tr>\n",
       "      <th>1</th>\n",
       "      <td>2.0</td>\n",
       "      <td>1351</td>\n",
       "    </tr>\n",
       "    <tr>\n",
       "      <th>2</th>\n",
       "      <td>11.0</td>\n",
       "      <td>927</td>\n",
       "    </tr>\n",
       "    <tr>\n",
       "      <th>3</th>\n",
       "      <td>8.0</td>\n",
       "      <td>713</td>\n",
       "    </tr>\n",
       "    <tr>\n",
       "      <th>4</th>\n",
       "      <td>5.0</td>\n",
       "      <td>675</td>\n",
       "    </tr>\n",
       "    <tr>\n",
       "      <th>5</th>\n",
       "      <td>4.0</td>\n",
       "      <td>561</td>\n",
       "    </tr>\n",
       "    <tr>\n",
       "      <th>6</th>\n",
       "      <td>9.0</td>\n",
       "      <td>495</td>\n",
       "    </tr>\n",
       "    <tr>\n",
       "      <th>7</th>\n",
       "      <td>12.0</td>\n",
       "      <td>285</td>\n",
       "    </tr>\n",
       "    <tr>\n",
       "      <th>8</th>\n",
       "      <td>15.0</td>\n",
       "      <td>250</td>\n",
       "    </tr>\n",
       "    <tr>\n",
       "      <th>9</th>\n",
       "      <td>16.0</td>\n",
       "      <td>224</td>\n",
       "    </tr>\n",
       "    <tr>\n",
       "      <th>10</th>\n",
       "      <td>17.0</td>\n",
       "      <td>170</td>\n",
       "    </tr>\n",
       "    <tr>\n",
       "      <th>11</th>\n",
       "      <td>21.0</td>\n",
       "      <td>125</td>\n",
       "    </tr>\n",
       "    <tr>\n",
       "      <th>12</th>\n",
       "      <td>7.0</td>\n",
       "      <td>39</td>\n",
       "    </tr>\n",
       "    <tr>\n",
       "      <th>13</th>\n",
       "      <td>23.0</td>\n",
       "      <td>10</td>\n",
       "    </tr>\n",
       "    <tr>\n",
       "      <th>14</th>\n",
       "      <td>14.0</td>\n",
       "      <td>10</td>\n",
       "    </tr>\n",
       "    <tr>\n",
       "      <th>15</th>\n",
       "      <td>50.0</td>\n",
       "      <td>5</td>\n",
       "    </tr>\n",
       "    <tr>\n",
       "      <th>16</th>\n",
       "      <td>39.0</td>\n",
       "      <td>4</td>\n",
       "    </tr>\n",
       "  </tbody>\n",
       "</table>\n",
       "</div>"
      ],
      "text/plain": [
       "    warehouse  Distribution_by_orders\n",
       "0         3.0                    1651\n",
       "1         2.0                    1351\n",
       "2        11.0                     927\n",
       "3         8.0                     713\n",
       "4         5.0                     675\n",
       "5         4.0                     561\n",
       "6         9.0                     495\n",
       "7        12.0                     285\n",
       "8        15.0                     250\n",
       "9        16.0                     224\n",
       "10       17.0                     170\n",
       "11       21.0                     125\n",
       "12        7.0                      39\n",
       "13       23.0                      10\n",
       "14       14.0                      10\n",
       "15       50.0                       5\n",
       "16       39.0                       4"
      ]
     },
     "execution_count": 25,
     "metadata": {},
     "output_type": "execute_result"
    }
   ],
   "source": [
    "sqldf('''\n",
    " SELECT order_warehouse_id AS warehouse,\n",
    "        COUNT(DISTINCT order_number)AS Distribution_by_orders\n",
    "    FROM df\n",
    "     WHERE warehouse IS NOT NULL\n",
    "    GROUP BY order_warehouse_id\n",
    "    ORDER BY Distribution_by_orders DESC\n",
    "    ''')"
   ]
  },
  {
   "cell_type": "markdown",
   "id": "83051e3b-2a7a-4752-9b27-b28d0b74754e",
   "metadata": {},
   "source": [
    "Distribution of orders By Stores"
   ]
  },
  {
   "cell_type": "code",
   "execution_count": 27,
   "id": "5eb8eaed-cea7-47a8-875e-a47ed68d1807",
   "metadata": {},
   "outputs": [
    {
     "data": {
      "text/html": [
       "<div>\n",
       "<style scoped>\n",
       "    .dataframe tbody tr th:only-of-type {\n",
       "        vertical-align: middle;\n",
       "    }\n",
       "\n",
       "    .dataframe tbody tr th {\n",
       "        vertical-align: top;\n",
       "    }\n",
       "\n",
       "    .dataframe thead th {\n",
       "        text-align: right;\n",
       "    }\n",
       "</style>\n",
       "<table border=\"1\" class=\"dataframe\">\n",
       "  <thead>\n",
       "    <tr style=\"text-align: right;\">\n",
       "      <th></th>\n",
       "      <th>store</th>\n",
       "      <th>Distribution_of_orders</th>\n",
       "    </tr>\n",
       "  </thead>\n",
       "  <tbody>\n",
       "    <tr>\n",
       "      <th>0</th>\n",
       "      <td>6HEvbEzF3K1C30aODVWMDt</td>\n",
       "      <td>5</td>\n",
       "    </tr>\n",
       "    <tr>\n",
       "      <th>1</th>\n",
       "      <td>3690100000000</td>\n",
       "      <td>5</td>\n",
       "    </tr>\n",
       "    <tr>\n",
       "      <th>2</th>\n",
       "      <td>2lB2SBi7xRUgcwRUQUQfz6</td>\n",
       "      <td>5</td>\n",
       "    </tr>\n",
       "    <tr>\n",
       "      <th>3</th>\n",
       "      <td>NMNbguQTkB38lWVP5UKTY</td>\n",
       "      <td>4</td>\n",
       "    </tr>\n",
       "    <tr>\n",
       "      <th>4</th>\n",
       "      <td>7136rrDwj9ULZd4MfYm7e5</td>\n",
       "      <td>4</td>\n",
       "    </tr>\n",
       "    <tr>\n",
       "      <th>5</th>\n",
       "      <td>6UyUgl1SS9Dql0CZ1hIcuM</td>\n",
       "      <td>4</td>\n",
       "    </tr>\n",
       "    <tr>\n",
       "      <th>6</th>\n",
       "      <td>6O5HLhsM81MBMnYVtdknYw</td>\n",
       "      <td>4</td>\n",
       "    </tr>\n",
       "    <tr>\n",
       "      <th>7</th>\n",
       "      <td>5Z9nuEI00ckNutQYNFmnOy</td>\n",
       "      <td>4</td>\n",
       "    </tr>\n",
       "    <tr>\n",
       "      <th>8</th>\n",
       "      <td>4yMY1r3kwuZCmTyZiDK5e3</td>\n",
       "      <td>4</td>\n",
       "    </tr>\n",
       "    <tr>\n",
       "      <th>9</th>\n",
       "      <td>4Urpf1FVorqPG4HWaxX6bB</td>\n",
       "      <td>4</td>\n",
       "    </tr>\n",
       "  </tbody>\n",
       "</table>\n",
       "</div>"
      ],
      "text/plain": [
       "                    store  Distribution_of_orders\n",
       "0  6HEvbEzF3K1C30aODVWMDt                       5\n",
       "1           3690100000000                       5\n",
       "2  2lB2SBi7xRUgcwRUQUQfz6                       5\n",
       "3   NMNbguQTkB38lWVP5UKTY                       4\n",
       "4  7136rrDwj9ULZd4MfYm7e5                       4\n",
       "5  6UyUgl1SS9Dql0CZ1hIcuM                       4\n",
       "6  6O5HLhsM81MBMnYVtdknYw                       4\n",
       "7  5Z9nuEI00ckNutQYNFmnOy                       4\n",
       "8  4yMY1r3kwuZCmTyZiDK5e3                       4\n",
       "9  4Urpf1FVorqPG4HWaxX6bB                       4"
      ]
     },
     "execution_count": 27,
     "metadata": {},
     "output_type": "execute_result"
    }
   ],
   "source": [
    "sqldf('''\n",
    "SELECT store_id AS store,\n",
    "        COUNT(DISTINCT order_number)AS Distribution_of_orders\n",
    "    FROM df\n",
    "    GROUP BY  store_id\n",
    "    ORDER BY Distribution_of_orders DESC\n",
    "    LIMIT 10\n",
    "    ''')"
   ]
  },
  {
   "cell_type": "markdown",
   "id": "98cf15bf-5b45-48d6-b261-9c77ae155e60",
   "metadata": {},
   "source": [
    "Top Selling Items"
   ]
  },
  {
   "cell_type": "code",
   "execution_count": 28,
   "id": "9cdb872c-0ef5-4325-b3e2-7be417832d95",
   "metadata": {},
   "outputs": [
    {
     "data": {
      "text/html": [
       "<div>\n",
       "<style scoped>\n",
       "    .dataframe tbody tr th:only-of-type {\n",
       "        vertical-align: middle;\n",
       "    }\n",
       "\n",
       "    .dataframe tbody tr th {\n",
       "        vertical-align: top;\n",
       "    }\n",
       "\n",
       "    .dataframe thead th {\n",
       "        text-align: right;\n",
       "    }\n",
       "</style>\n",
       "<table border=\"1\" class=\"dataframe\">\n",
       "  <thead>\n",
       "    <tr style=\"text-align: right;\">\n",
       "      <th></th>\n",
       "      <th>Top_Selling_items</th>\n",
       "      <th>Total_quanity_sold</th>\n",
       "    </tr>\n",
       "  </thead>\n",
       "  <tbody>\n",
       "    <tr>\n",
       "      <th>0</th>\n",
       "      <td>P2RwFPjdKJ0oFr9OoVmrDRm</td>\n",
       "      <td>400000</td>\n",
       "    </tr>\n",
       "    <tr>\n",
       "      <th>1</th>\n",
       "      <td>P5914112688284</td>\n",
       "      <td>20926</td>\n",
       "    </tr>\n",
       "    <tr>\n",
       "      <th>2</th>\n",
       "      <td>P227644615428796458</td>\n",
       "      <td>12108</td>\n",
       "    </tr>\n",
       "    <tr>\n",
       "      <th>3</th>\n",
       "      <td>P5678188101788</td>\n",
       "      <td>7379</td>\n",
       "    </tr>\n",
       "    <tr>\n",
       "      <th>4</th>\n",
       "      <td>P193053596797216954</td>\n",
       "      <td>5715</td>\n",
       "    </tr>\n",
       "    <tr>\n",
       "      <th>5</th>\n",
       "      <td>P881311747325487679</td>\n",
       "      <td>5006</td>\n",
       "    </tr>\n",
       "    <tr>\n",
       "      <th>6</th>\n",
       "      <td>P037963480594898300</td>\n",
       "      <td>2874</td>\n",
       "    </tr>\n",
       "    <tr>\n",
       "      <th>7</th>\n",
       "      <td>P5665770111132</td>\n",
       "      <td>2569</td>\n",
       "    </tr>\n",
       "    <tr>\n",
       "      <th>8</th>\n",
       "      <td>P358836009799511708</td>\n",
       "      <td>2372</td>\n",
       "    </tr>\n",
       "    <tr>\n",
       "      <th>9</th>\n",
       "      <td>P343784657338674125</td>\n",
       "      <td>2001</td>\n",
       "    </tr>\n",
       "  </tbody>\n",
       "</table>\n",
       "</div>"
      ],
      "text/plain": [
       "         Top_Selling_items  Total_quanity_sold\n",
       "0  P2RwFPjdKJ0oFr9OoVmrDRm              400000\n",
       "1           P5914112688284               20926\n",
       "2      P227644615428796458               12108\n",
       "3           P5678188101788                7379\n",
       "4      P193053596797216954                5715\n",
       "5      P881311747325487679                5006\n",
       "6      P037963480594898300                2874\n",
       "7           P5665770111132                2569\n",
       "8      P358836009799511708                2372\n",
       "9      P343784657338674125                2001"
      ]
     },
     "execution_count": 28,
     "metadata": {},
     "output_type": "execute_result"
    }
   ],
   "source": [
    "sqldf('''\n",
    "  SELECT item_id As Top_Selling_items,\n",
    "      sum(ordered_quantity) As Total_quanity_sold\n",
    "      from df\n",
    "      GROUP BY item_id\n",
    "      ORDER BY Total_quanity_sold DESC\n",
    "      LIMIT 10\n",
    "       ''')"
   ]
  },
  {
   "cell_type": "markdown",
   "id": "849da664-4a7a-40e8-b589-f06e28ce3307",
   "metadata": {},
   "source": [
    "**Answering Analytical Questions Using SQL**"
   ]
  },
  {
   "cell_type": "markdown",
   "id": "5ef55efd-a3f2-4eb5-90d9-8dbbcf1bf8d1",
   "metadata": {},
   "source": [
    "1. Overall discount rate"
   ]
  },
  {
   "cell_type": "code",
   "execution_count": null,
   "id": "19489551-c89a-4a51-a651-f79d1a1f6501",
   "metadata": {},
   "outputs": [],
   "source": []
  },
  {
   "cell_type": "code",
   "execution_count": 29,
   "id": "62a0b151-592f-4453-a6db-ff481067d028",
   "metadata": {},
   "outputs": [
    {
     "data": {
      "text/html": [
       "<div>\n",
       "<style scoped>\n",
       "    .dataframe tbody tr th:only-of-type {\n",
       "        vertical-align: middle;\n",
       "    }\n",
       "\n",
       "    .dataframe tbody tr th {\n",
       "        vertical-align: top;\n",
       "    }\n",
       "\n",
       "    .dataframe thead th {\n",
       "        text-align: right;\n",
       "    }\n",
       "</style>\n",
       "<table border=\"1\" class=\"dataframe\">\n",
       "  <thead>\n",
       "    <tr style=\"text-align: right;\">\n",
       "      <th></th>\n",
       "      <th>item_discount</th>\n",
       "    </tr>\n",
       "  </thead>\n",
       "  <tbody>\n",
       "    <tr>\n",
       "      <th>0</th>\n",
       "      <td>-2.500000e+05</td>\n",
       "    </tr>\n",
       "    <tr>\n",
       "      <th>1</th>\n",
       "      <td>-8.065200e+02</td>\n",
       "    </tr>\n",
       "    <tr>\n",
       "      <th>2</th>\n",
       "      <td>-1.000000e+00</td>\n",
       "    </tr>\n",
       "    <tr>\n",
       "      <th>3</th>\n",
       "      <td>-1.600000e+08</td>\n",
       "    </tr>\n",
       "    <tr>\n",
       "      <th>4</th>\n",
       "      <td>-2.990000e+00</td>\n",
       "    </tr>\n",
       "    <tr>\n",
       "      <th>5</th>\n",
       "      <td>-1.350000e+02</td>\n",
       "    </tr>\n",
       "  </tbody>\n",
       "</table>\n",
       "</div>"
      ],
      "text/plain": [
       "   item_discount\n",
       "0  -2.500000e+05\n",
       "1  -8.065200e+02\n",
       "2  -1.000000e+00\n",
       "3  -1.600000e+08\n",
       "4  -2.990000e+00\n",
       "5  -1.350000e+02"
      ]
     },
     "execution_count": 29,
     "metadata": {},
     "output_type": "execute_result"
    }
   ],
   "source": [
    "sqldf('''\n",
    " SELECT item_discount\n",
    " FROM df\n",
    " where item_discount <0\n",
    " ''')"
   ]
  },
  {
   "cell_type": "code",
   "execution_count": 30,
   "id": "a3e436ad-be33-46fa-865d-592eaf4be43a",
   "metadata": {},
   "outputs": [
    {
     "data": {
      "text/html": [
       "<div>\n",
       "<style scoped>\n",
       "    .dataframe tbody tr th:only-of-type {\n",
       "        vertical-align: middle;\n",
       "    }\n",
       "\n",
       "    .dataframe tbody tr th {\n",
       "        vertical-align: top;\n",
       "    }\n",
       "\n",
       "    .dataframe thead th {\n",
       "        text-align: right;\n",
       "    }\n",
       "</style>\n",
       "<table border=\"1\" class=\"dataframe\">\n",
       "  <thead>\n",
       "    <tr style=\"text-align: right;\">\n",
       "      <th></th>\n",
       "      <th>item_discount</th>\n",
       "    </tr>\n",
       "  </thead>\n",
       "  <tbody>\n",
       "    <tr>\n",
       "      <th>0</th>\n",
       "      <td>36.0</td>\n",
       "    </tr>\n",
       "    <tr>\n",
       "      <th>1</th>\n",
       "      <td>36.0</td>\n",
       "    </tr>\n",
       "    <tr>\n",
       "      <th>2</th>\n",
       "      <td>600.0</td>\n",
       "    </tr>\n",
       "    <tr>\n",
       "      <th>3</th>\n",
       "      <td>3500.0</td>\n",
       "    </tr>\n",
       "    <tr>\n",
       "      <th>4</th>\n",
       "      <td>7.0</td>\n",
       "    </tr>\n",
       "    <tr>\n",
       "      <th>...</th>\n",
       "      <td>...</td>\n",
       "    </tr>\n",
       "    <tr>\n",
       "      <th>5725</th>\n",
       "      <td>5.0</td>\n",
       "    </tr>\n",
       "    <tr>\n",
       "      <th>5726</th>\n",
       "      <td>6.0</td>\n",
       "    </tr>\n",
       "    <tr>\n",
       "      <th>5727</th>\n",
       "      <td>240.0</td>\n",
       "    </tr>\n",
       "    <tr>\n",
       "      <th>5728</th>\n",
       "      <td>3.0</td>\n",
       "    </tr>\n",
       "    <tr>\n",
       "      <th>5729</th>\n",
       "      <td>4.0</td>\n",
       "    </tr>\n",
       "  </tbody>\n",
       "</table>\n",
       "<p>5730 rows × 1 columns</p>\n",
       "</div>"
      ],
      "text/plain": [
       "      item_discount\n",
       "0              36.0\n",
       "1              36.0\n",
       "2             600.0\n",
       "3            3500.0\n",
       "4               7.0\n",
       "...             ...\n",
       "5725            5.0\n",
       "5726            6.0\n",
       "5727          240.0\n",
       "5728            3.0\n",
       "5729            4.0\n",
       "\n",
       "[5730 rows x 1 columns]"
      ]
     },
     "execution_count": 30,
     "metadata": {},
     "output_type": "execute_result"
    }
   ],
   "source": [
    "sqldf('''\n",
    " SELECT item_discount\n",
    " FROM df\n",
    " where item_discount >0\n",
    " ''')"
   ]
  },
  {
   "cell_type": "markdown",
   "id": "d2039d40-c009-4da7-b29b-2a826d3b1bd3",
   "metadata": {},
   "source": [
    "\n",
    "I noticed an inconsistency in our dataset where discounts were recorded as both positive and negative values. To resolve this, I decided to convert all discounts to negative values before calculating the average discount rate. This approach follows the conventional practice in finance and accounting, where discounts are typically shown as negative values.\n",
    "\n",
    "By standardizing the representation of discounts as negative values, we ensure consistency and clarity in our data. This makes the concept of discounts as reductions from the original price more intuitive, simplifying calculations and improving the dataset's interpretability. Consequently, the average discount rate we calculate will accurately reflect this standardized approach, enabling a more meaningful analysis of pricing strategies and sales performance"
   ]
  },
  {
   "cell_type": "code",
   "execution_count": 31,
   "id": "cad91632-0f9d-4cc1-9f5d-eb882f2ee1be",
   "metadata": {},
   "outputs": [
    {
     "data": {
      "text/html": [
       "<div>\n",
       "<style scoped>\n",
       "    .dataframe tbody tr th:only-of-type {\n",
       "        vertical-align: middle;\n",
       "    }\n",
       "\n",
       "    .dataframe tbody tr th {\n",
       "        vertical-align: top;\n",
       "    }\n",
       "\n",
       "    .dataframe thead th {\n",
       "        text-align: right;\n",
       "    }\n",
       "</style>\n",
       "<table border=\"1\" class=\"dataframe\">\n",
       "  <thead>\n",
       "    <tr style=\"text-align: right;\">\n",
       "      <th></th>\n",
       "      <th>overall_discount_rate</th>\n",
       "    </tr>\n",
       "  </thead>\n",
       "  <tbody>\n",
       "    <tr>\n",
       "      <th>0</th>\n",
       "      <td>-6520.88516</td>\n",
       "    </tr>\n",
       "  </tbody>\n",
       "</table>\n",
       "</div>"
      ],
      "text/plain": [
       "   overall_discount_rate\n",
       "0            -6520.88516"
      ]
     },
     "execution_count": 31,
     "metadata": {},
     "output_type": "execute_result"
    }
   ],
   "source": [
    "sqldf('''\n",
    "         SELECT AVG(\n",
    "                    CASE WHEN item_discount > 0 THEN item_discount * -1\n",
    "                    ELSE item_discount\n",
    "                    END) AS overall_discount_rate\n",
    "         FROM df\n",
    "         ''')"
   ]
  },
  {
   "cell_type": "markdown",
   "id": "9a208fc3-0e55-473d-89b6-99f19c7062bd",
   "metadata": {},
   "source": [
    "\n",
    "**1 The average discount per item sold for each distinct item_id**"
   ]
  },
  {
   "cell_type": "code",
   "execution_count": 34,
   "id": "4007a282-1647-488b-bf65-6b3d71aafa0c",
   "metadata": {},
   "outputs": [
    {
     "data": {
      "text/html": [
       "<div>\n",
       "<style scoped>\n",
       "    .dataframe tbody tr th:only-of-type {\n",
       "        vertical-align: middle;\n",
       "    }\n",
       "\n",
       "    .dataframe tbody tr th {\n",
       "        vertical-align: top;\n",
       "    }\n",
       "\n",
       "    .dataframe thead th {\n",
       "        text-align: right;\n",
       "    }\n",
       "</style>\n",
       "<table border=\"1\" class=\"dataframe\">\n",
       "  <thead>\n",
       "    <tr style=\"text-align: right;\">\n",
       "      <th></th>\n",
       "      <th>item_id</th>\n",
       "      <th>AVG_Discount_Per_Item_Sold_For_Each_Item</th>\n",
       "    </tr>\n",
       "  </thead>\n",
       "  <tbody>\n",
       "    <tr>\n",
       "      <th>0</th>\n",
       "      <td>P2RwFPjdKJ0oFr9OoVmrDRm</td>\n",
       "      <td>-1.600000e+08</td>\n",
       "    </tr>\n",
       "    <tr>\n",
       "      <th>1</th>\n",
       "      <td>P431219087541607447</td>\n",
       "      <td>-3.650260e+05</td>\n",
       "    </tr>\n",
       "    <tr>\n",
       "      <th>2</th>\n",
       "      <td>P7EuMEqNrLfjaPC1nvEUqsB</td>\n",
       "      <td>-2.500000e+05</td>\n",
       "    </tr>\n",
       "    <tr>\n",
       "      <th>3</th>\n",
       "      <td>P358836009799511708</td>\n",
       "      <td>-5.764835e+04</td>\n",
       "    </tr>\n",
       "    <tr>\n",
       "      <th>4</th>\n",
       "      <td>P5532071329948</td>\n",
       "      <td>-1.612000e+04</td>\n",
       "    </tr>\n",
       "  </tbody>\n",
       "</table>\n",
       "</div>"
      ],
      "text/plain": [
       "                   item_id  AVG_Discount_Per_Item_Sold_For_Each_Item\n",
       "0  P2RwFPjdKJ0oFr9OoVmrDRm                             -1.600000e+08\n",
       "1      P431219087541607447                             -3.650260e+05\n",
       "2  P7EuMEqNrLfjaPC1nvEUqsB                             -2.500000e+05\n",
       "3      P358836009799511708                             -5.764835e+04\n",
       "4           P5532071329948                             -1.612000e+04"
      ]
     },
     "execution_count": 34,
     "metadata": {},
     "output_type": "execute_result"
    }
   ],
   "source": [
    "sqldf('''\n",
    "SELECT item_id,\n",
    "AVG(CASE WHEN item_discount>0 THEN item_discount *-1\n",
    "Else item_discount\n",
    "END\n",
    ")As AVG_Discount_Per_Item_Sold_For_Each_Item\n",
    "From df\n",
    "Group by item_id\n",
    "order by AVG_Discount_per_Item_Sold_For_Each_Item\n",
    "limit 5\n",
    "''')\n",
    "\n"
   ]
  },
  {
   "cell_type": "markdown",
   "id": "e1400b7d-6f73-456b-8b52-939de23d41af",
   "metadata": {},
   "source": [
    " **2.which Warehouse has the highest value**"
   ]
  },
  {
   "cell_type": "code",
   "execution_count": 9,
   "id": "05a62451-77aa-447e-8c84-bef6ec817c02",
   "metadata": {},
   "outputs": [
    {
     "data": {
      "text/html": [
       "<div>\n",
       "<style scoped>\n",
       "    .dataframe tbody tr th:only-of-type {\n",
       "        vertical-align: middle;\n",
       "    }\n",
       "\n",
       "    .dataframe tbody tr th {\n",
       "        vertical-align: top;\n",
       "    }\n",
       "\n",
       "    .dataframe thead th {\n",
       "        text-align: right;\n",
       "    }\n",
       "</style>\n",
       "<table border=\"1\" class=\"dataframe\">\n",
       "  <thead>\n",
       "    <tr style=\"text-align: right;\">\n",
       "      <th></th>\n",
       "      <th>order_warehouse_id</th>\n",
       "      <th>highest_average_order_value</th>\n",
       "    </tr>\n",
       "  </thead>\n",
       "  <tbody>\n",
       "    <tr>\n",
       "      <th>0</th>\n",
       "      <td>14.0</td>\n",
       "      <td>136468.000000</td>\n",
       "    </tr>\n",
       "    <tr>\n",
       "      <th>1</th>\n",
       "      <td>39.0</td>\n",
       "      <td>58587.500000</td>\n",
       "    </tr>\n",
       "    <tr>\n",
       "      <th>2</th>\n",
       "      <td>7.0</td>\n",
       "      <td>27284.282051</td>\n",
       "    </tr>\n",
       "    <tr>\n",
       "      <th>3</th>\n",
       "      <td>5.0</td>\n",
       "      <td>23550.882627</td>\n",
       "    </tr>\n",
       "    <tr>\n",
       "      <th>4</th>\n",
       "      <td>4.0</td>\n",
       "      <td>20806.759340</td>\n",
       "    </tr>\n",
       "  </tbody>\n",
       "</table>\n",
       "</div>"
      ],
      "text/plain": [
       "   order_warehouse_id  highest_average_order_value\n",
       "0                14.0                136468.000000\n",
       "1                39.0                 58587.500000\n",
       "2                 7.0                 27284.282051\n",
       "3                 5.0                 23550.882627\n",
       "4                 4.0                 20806.759340"
      ]
     },
     "execution_count": 9,
     "metadata": {},
     "output_type": "execute_result"
    }
   ],
   "source": [
    "sqldf('''\n",
    "select order_warehouse_id,\n",
    "sum(ordered_quantity*amount_per_unit-ABS(item_discount))/\n",
    "count(DISTINCT order_number) AS highest_average_order_value\n",
    "from df\n",
    "Where order_warehouse_id  IS NOT NULL\n",
    "Group by order_warehouse_id\n",
    "Order by highest_average_order_value DESC \n",
    "LIMIT 5\n",
    "''')"
   ]
  },
  {
   "cell_type": "markdown",
   "id": "3c08170d-c801-476e-a954-698299fc0b96",
   "metadata": {},
   "source": [
    "**3. Total Revenue Generated by Each Store**"
   ]
  },
  {
   "cell_type": "code",
   "execution_count": 36,
   "id": "05c2446f-844a-4094-91a8-43cd24d4979b",
   "metadata": {},
   "outputs": [
    {
     "data": {
      "text/html": [
       "<div>\n",
       "<style scoped>\n",
       "    .dataframe tbody tr th:only-of-type {\n",
       "        vertical-align: middle;\n",
       "    }\n",
       "\n",
       "    .dataframe tbody tr th {\n",
       "        vertical-align: top;\n",
       "    }\n",
       "\n",
       "    .dataframe thead th {\n",
       "        text-align: right;\n",
       "    }\n",
       "</style>\n",
       "<table border=\"1\" class=\"dataframe\">\n",
       "  <thead>\n",
       "    <tr style=\"text-align: right;\">\n",
       "      <th></th>\n",
       "      <th>store_id</th>\n",
       "      <th>TOTAL_REVENUE</th>\n",
       "    </tr>\n",
       "  </thead>\n",
       "  <tbody>\n",
       "    <tr>\n",
       "      <th>0</th>\n",
       "      <td>7ldsLx849ptRljYZTK8tl8</td>\n",
       "      <td>3360070.0</td>\n",
       "    </tr>\n",
       "    <tr>\n",
       "      <th>1</th>\n",
       "      <td>2Z9CsLeVlPvooYgQOUjcRI</td>\n",
       "      <td>2616020.0</td>\n",
       "    </tr>\n",
       "    <tr>\n",
       "      <th>2</th>\n",
       "      <td>4PdVF4u8WXhO4xnSMCYIzs</td>\n",
       "      <td>2560000.0</td>\n",
       "    </tr>\n",
       "    <tr>\n",
       "      <th>3</th>\n",
       "      <td>49WcD3UqaC72tOQ6tood3n</td>\n",
       "      <td>2030000.0</td>\n",
       "    </tr>\n",
       "    <tr>\n",
       "      <th>4</th>\n",
       "      <td>3ydAgE2Bkjbp6CvTfZjg7P</td>\n",
       "      <td>1880500.0</td>\n",
       "    </tr>\n",
       "  </tbody>\n",
       "</table>\n",
       "</div>"
      ],
      "text/plain": [
       "                 store_id  TOTAL_REVENUE\n",
       "0  7ldsLx849ptRljYZTK8tl8      3360070.0\n",
       "1  2Z9CsLeVlPvooYgQOUjcRI      2616020.0\n",
       "2  4PdVF4u8WXhO4xnSMCYIzs      2560000.0\n",
       "3  49WcD3UqaC72tOQ6tood3n      2030000.0\n",
       "4  3ydAgE2Bkjbp6CvTfZjg7P      1880500.0"
      ]
     },
     "execution_count": 36,
     "metadata": {},
     "output_type": "execute_result"
    }
   ],
   "source": [
    "sqldf('''\n",
    "select store_id,\n",
    "sum(ordered_quantity*amount_per_unit-ABS(item_discount))AS TOTAL_REVENUE\n",
    "from df\n",
    "Where store_id IS NOT NULL\n",
    "Group by store_id\n",
    "order by Total_Revenue DESC\n",
    "LIMIT 5\n",
    "''')\n"
   ]
  },
  {
   "cell_type": "markdown",
   "id": "87576b34-4c79-42cc-8f1e-fd59c2a61783",
   "metadata": {},
   "source": [
    "**4.Identify top five customer** "
   ]
  },
  {
   "cell_type": "code",
   "execution_count": 37,
   "id": "59cfb53b-e4f7-4e92-af80-d3206b7bb8a9",
   "metadata": {},
   "outputs": [
    {
     "data": {
      "text/html": [
       "<div>\n",
       "<style scoped>\n",
       "    .dataframe tbody tr th:only-of-type {\n",
       "        vertical-align: middle;\n",
       "    }\n",
       "\n",
       "    .dataframe tbody tr th {\n",
       "        vertical-align: top;\n",
       "    }\n",
       "\n",
       "    .dataframe thead th {\n",
       "        text-align: right;\n",
       "    }\n",
       "</style>\n",
       "<table border=\"1\" class=\"dataframe\">\n",
       "  <thead>\n",
       "    <tr style=\"text-align: right;\">\n",
       "      <th></th>\n",
       "      <th>store_id</th>\n",
       "      <th>Top_Customer_Order_Id</th>\n",
       "      <th>Total_Amount_Spent</th>\n",
       "    </tr>\n",
       "  </thead>\n",
       "  <tbody>\n",
       "    <tr>\n",
       "      <th>0</th>\n",
       "      <td>7ldsLx849ptRljYZTK8tl8</td>\n",
       "      <td>23039497453</td>\n",
       "      <td>3360070.0</td>\n",
       "    </tr>\n",
       "    <tr>\n",
       "      <th>1</th>\n",
       "      <td>2Z9CsLeVlPvooYgQOUjcRI</td>\n",
       "      <td>23055942343</td>\n",
       "      <td>2616020.0</td>\n",
       "    </tr>\n",
       "    <tr>\n",
       "      <th>2</th>\n",
       "      <td>4PdVF4u8WXhO4xnSMCYIzs</td>\n",
       "      <td>23038626816</td>\n",
       "      <td>2560000.0</td>\n",
       "    </tr>\n",
       "    <tr>\n",
       "      <th>3</th>\n",
       "      <td>49WcD3UqaC72tOQ6tood3n</td>\n",
       "      <td>23046539355</td>\n",
       "      <td>2030000.0</td>\n",
       "    </tr>\n",
       "    <tr>\n",
       "      <th>4</th>\n",
       "      <td>3ydAgE2Bkjbp6CvTfZjg7P</td>\n",
       "      <td>23051225637</td>\n",
       "      <td>1880500.0</td>\n",
       "    </tr>\n",
       "  </tbody>\n",
       "</table>\n",
       "</div>"
      ],
      "text/plain": [
       "                 store_id  Top_Customer_Order_Id  Total_Amount_Spent\n",
       "0  7ldsLx849ptRljYZTK8tl8            23039497453           3360070.0\n",
       "1  2Z9CsLeVlPvooYgQOUjcRI            23055942343           2616020.0\n",
       "2  4PdVF4u8WXhO4xnSMCYIzs            23038626816           2560000.0\n",
       "3  49WcD3UqaC72tOQ6tood3n            23046539355           2030000.0\n",
       "4  3ydAgE2Bkjbp6CvTfZjg7P            23051225637           1880500.0"
      ]
     },
     "execution_count": 37,
     "metadata": {},
     "output_type": "execute_result"
    }
   ],
   "source": [
    "sqldf('''\n",
    "select store_id,\n",
    "order_number As Top_Customer_Order_Id,\n",
    "sum(ordered_quantity * amount_per_unit - ABS(item_discount)) AS Total_Amount_Spent\n",
    "from df\n",
    "Where store_id IS NOT NULL\n",
    "Group by store_id\n",
    "order by Total_Amount_Spent DESC\n",
    "LIMIT 5\n",
    "''')"
   ]
  },
  {
   "cell_type": "markdown",
   "id": "2355a533-d5e3-4d0a-ae4a-a3bac5f732ed",
   "metadata": {},
   "source": [
    "**5 Month-over-month growth rate of sales revenue** "
   ]
  },
  {
   "cell_type": "code",
   "execution_count": 38,
   "id": "3faa77ba-ab1d-4ca9-bb39-b13f99c0d219",
   "metadata": {},
   "outputs": [
    {
     "data": {
      "text/html": [
       "<div>\n",
       "<style scoped>\n",
       "    .dataframe tbody tr th:only-of-type {\n",
       "        vertical-align: middle;\n",
       "    }\n",
       "\n",
       "    .dataframe tbody tr th {\n",
       "        vertical-align: top;\n",
       "    }\n",
       "\n",
       "    .dataframe thead th {\n",
       "        text-align: right;\n",
       "    }\n",
       "</style>\n",
       "<table border=\"1\" class=\"dataframe\">\n",
       "  <thead>\n",
       "    <tr style=\"text-align: right;\">\n",
       "      <th></th>\n",
       "      <th>month</th>\n",
       "      <th>sales_revenue</th>\n",
       "      <th>revenue_growth_rate</th>\n",
       "    </tr>\n",
       "  </thead>\n",
       "  <tbody>\n",
       "    <tr>\n",
       "      <th>0</th>\n",
       "      <td>2023-06</td>\n",
       "      <td>3.694340e+06</td>\n",
       "      <td>2.848190</td>\n",
       "    </tr>\n",
       "    <tr>\n",
       "      <th>1</th>\n",
       "      <td>2023-07</td>\n",
       "      <td>8.269361e+06</td>\n",
       "      <td>1.238387</td>\n",
       "    </tr>\n",
       "    <tr>\n",
       "      <th>2</th>\n",
       "      <td>2023-11</td>\n",
       "      <td>3.626123e+06</td>\n",
       "      <td>0.346765</td>\n",
       "    </tr>\n",
       "    <tr>\n",
       "      <th>3</th>\n",
       "      <td>2023-03</td>\n",
       "      <td>4.494372e+06</td>\n",
       "      <td>0.083032</td>\n",
       "    </tr>\n",
       "    <tr>\n",
       "      <th>4</th>\n",
       "      <td>2023-02</td>\n",
       "      <td>4.149805e+06</td>\n",
       "      <td>0.048502</td>\n",
       "    </tr>\n",
       "    <tr>\n",
       "      <th>5</th>\n",
       "      <td>2023-10</td>\n",
       "      <td>2.692469e+06</td>\n",
       "      <td>-0.094043</td>\n",
       "    </tr>\n",
       "    <tr>\n",
       "      <th>6</th>\n",
       "      <td>2023-08</td>\n",
       "      <td>7.463214e+06</td>\n",
       "      <td>-0.097486</td>\n",
       "    </tr>\n",
       "    <tr>\n",
       "      <th>7</th>\n",
       "      <td>2023-04</td>\n",
       "      <td>3.905202e+06</td>\n",
       "      <td>-0.131091</td>\n",
       "    </tr>\n",
       "    <tr>\n",
       "      <th>8</th>\n",
       "      <td>2023-12</td>\n",
       "      <td>1.696119e+06</td>\n",
       "      <td>-0.532250</td>\n",
       "    </tr>\n",
       "    <tr>\n",
       "      <th>9</th>\n",
       "      <td>2023-09</td>\n",
       "      <td>2.971962e+06</td>\n",
       "      <td>-0.601785</td>\n",
       "    </tr>\n",
       "    <tr>\n",
       "      <th>10</th>\n",
       "      <td>2023-05</td>\n",
       "      <td>9.600202e+05</td>\n",
       "      <td>-0.754169</td>\n",
       "    </tr>\n",
       "    <tr>\n",
       "      <th>11</th>\n",
       "      <td>2023-01</td>\n",
       "      <td>3.957841e+06</td>\n",
       "      <td>-0.941418</td>\n",
       "    </tr>\n",
       "    <tr>\n",
       "      <th>12</th>\n",
       "      <td>None</td>\n",
       "      <td>6.756037e+07</td>\n",
       "      <td>NaN</td>\n",
       "    </tr>\n",
       "  </tbody>\n",
       "</table>\n",
       "</div>"
      ],
      "text/plain": [
       "      month  sales_revenue  revenue_growth_rate\n",
       "0   2023-06   3.694340e+06             2.848190\n",
       "1   2023-07   8.269361e+06             1.238387\n",
       "2   2023-11   3.626123e+06             0.346765\n",
       "3   2023-03   4.494372e+06             0.083032\n",
       "4   2023-02   4.149805e+06             0.048502\n",
       "5   2023-10   2.692469e+06            -0.094043\n",
       "6   2023-08   7.463214e+06            -0.097486\n",
       "7   2023-04   3.905202e+06            -0.131091\n",
       "8   2023-12   1.696119e+06            -0.532250\n",
       "9   2023-09   2.971962e+06            -0.601785\n",
       "10  2023-05   9.600202e+05            -0.754169\n",
       "11  2023-01   3.957841e+06            -0.941418\n",
       "12     None   6.756037e+07                  NaN"
      ]
     },
     "execution_count": 38,
     "metadata": {},
     "output_type": "execute_result"
    }
   ],
   "source": [
    "sqldf('''\n",
    "select\n",
    "strftime('%Y-%m', order_date) AS month,\n",
    "SUM(ordered_quantity * amount_per_unit - ABS(item_discount)) AS sales_revenue,\n",
    "(SUM(ordered_quantity * amount_per_unit - ABS(item_discount)) - LAG(SUM(ordered_quantity * amount_per_unit - ABS(item_discount)), 1) OVER (ORDER BY strftime('%Y-%m', order_date))) / LAG(SUM(ordered_quantity * amount_per_unit - ABS(item_discount)), 1) OVER (ORDER BY strftime('%Y-%m', order_date)) AS revenue_growth_rate\n",
    "FROM df \n",
    " GROUP BY strftime('%Y-%m', order_date)\n",
    " ORDER BY revenue_growth_rate DESC  \n",
    " ''')\n"
   ]
  },
  {
   "cell_type": "markdown",
   "id": "679749ba-16d3-4bdd-8580-1065df9e3369",
   "metadata": {},
   "source": [
    "**6. percentage of orders that were cancelled**"
   ]
  },
  {
   "cell_type": "code",
   "execution_count": 39,
   "id": "46d2b33e-5c76-4700-9047-a380ed080fe3",
   "metadata": {},
   "outputs": [
    {
     "data": {
      "text/html": [
       "<div>\n",
       "<style scoped>\n",
       "    .dataframe tbody tr th:only-of-type {\n",
       "        vertical-align: middle;\n",
       "    }\n",
       "\n",
       "    .dataframe tbody tr th {\n",
       "        vertical-align: top;\n",
       "    }\n",
       "\n",
       "    .dataframe thead th {\n",
       "        text-align: right;\n",
       "    }\n",
       "</style>\n",
       "<table border=\"1\" class=\"dataframe\">\n",
       "  <thead>\n",
       "    <tr style=\"text-align: right;\">\n",
       "      <th></th>\n",
       "      <th>Percentage_of_orders_cancelled</th>\n",
       "    </tr>\n",
       "  </thead>\n",
       "  <tbody>\n",
       "    <tr>\n",
       "      <th>0</th>\n",
       "      <td>5.516</td>\n",
       "    </tr>\n",
       "  </tbody>\n",
       "</table>\n",
       "</div>"
      ],
      "text/plain": [
       "   Percentage_of_orders_cancelled\n",
       "0                           5.516"
      ]
     },
     "execution_count": 39,
     "metadata": {},
     "output_type": "execute_result"
    }
   ],
   "source": [
    "sqldf('''\n",
    "  SELECT\n",
    " CAST (COUNT(CASE WHEN order_status == 'CANCELLED' THEN 1 END) AS FLOAT)/\n",
    " CAST(COUNT(*) AS FLOAT) * 100 AS Percentage_of_orders_cancelled\n",
    " FROM df;              \n",
    "''')"
   ]
  },
  {
   "cell_type": "markdown",
   "id": "ab023a76-c7c3-4ef6-9eaf-f16d53bd9b55",
   "metadata": {},
   "source": [
    "## DATA VISUALISATION ##"
   ]
  },
  {
   "cell_type": "markdown",
   "id": "2232c975-a824-422f-a7ec-c350f83207f3",
   "metadata": {},
   "source": [
    "**Time series plot of sales revenue over time.**"
   ]
  },
  {
   "cell_type": "code",
   "execution_count": 40,
   "id": "68025139-ca9f-4c5a-a1ea-347a9a9ec564",
   "metadata": {},
   "outputs": [],
   "source": [
    "df[\"order_date\"]=pd.to_datetime(df[\"order_date\"])"
   ]
  },
  {
   "cell_type": "code",
   "execution_count": 43,
   "id": "241bca72-3247-4bdb-a240-545b0a26811b",
   "metadata": {},
   "outputs": [],
   "source": [
    "Sales_Revenue_over_time = sqldf('''\n",
    "    select strftime('%Y-%m',order_date)AS month,\n",
    "    sum(ordered_quantity * amount_per_unit - ABS(item_discount)) AS Revenue\n",
    "         FROM df\n",
    "         GROUP BY month\n",
    "''')"
   ]
  },
  {
   "cell_type": "code",
   "execution_count": 45,
   "id": "af92ae6d-c47a-4565-8ca5-21fb78be8516",
   "metadata": {},
   "outputs": [
    {
     "data": {
      "image/png": "[encoded data removed]",
      "text/plain": [
       "<Figure size 1000x600 with 1 Axes>"
      ]
     },
     "metadata": {},
     "output_type": "display_data"
    }
   ],
   "source": [
    "plt.figure(figsize=(10,6))\n",
    "plt.plot(Sales_Revenue_over_time.month,Sales_Revenue_over_time.Revenue,color = \"Blue\",marker = \"o\")\n",
    "plt.xticks(rotation =45)\n",
    "plt.grid()\n",
    "plt.title(\"sales over time\")\n",
    "plt.xlabel(\"Months\")\n",
    "plt.ylabel(\"Revenue\")\n",
    "plt.show()\n"
   ]
  },
  {
   "cell_type": "markdown",
   "id": "5b3334fd-25d8-4f09-8fb8-cb9c025a629f",
   "metadata": {},
   "source": [
    "The notable increase in revenue observed in February, followed by a decline in subsequent months, can be attributed to several factors:\n",
    "\n",
    "**Seasonal Trends**\n",
    "February often coincides with peak shopping periods, such as holidays, festivals, or promotional events, which typically drive higher consumer spending. After these peak periods, sales tend to stabilize as demand returns to normal levels in the following months.\n",
    "\n",
    "**Campaigns or Special Events** \n",
    " The spike in February revenue may be attributed to specific marketing campaigns, promotions, or one-time events conducted during that period. These initiatives likely generated excitement and attracted more customers, resulting in increased sales for that month. Once the event concluded, sales could have returned to their usual levels.\n",
    "\n",
    "**External Influences** Economic conditions, market dynamics, and shifts in consumer behavior also play crucial roles in revenue fluctuations. Changes in disposable income, consumer confidence, or competitive activities might have influenced purchasing decisions and contributed to the observed revenue patterns.\n",
    "\n",
    "To gain deeper insights into these revenue fluctuations and address underlying factors, a thorough analysis of sales data, customer feedback, and market trends during the period is essential. This analysis can pinpoint the specific drivers behind the February spike and guide strategic decisions to sustain or replicate such success in the future. Implementing proactive sales strategies, optimizing inventory management, and leveraging customer insights can help mitigate revenue volatility and foster consistent growth over time.\n",
    "\n",
    "\n",
    "\n",
    "\n",
    "\n",
    "\n"
   ]
  },
  {
   "cell_type": "markdown",
   "id": "f2ec0ee4-d769-4528-adf2-1969c29ccf2d",
   "metadata": {},
   "source": [
    "**Bar chat showing total revenue by store**"
   ]
  },
  {
   "cell_type": "code",
   "execution_count": 18,
   "id": "cae785c4-c556-4d30-be81-f0cfd8284908",
   "metadata": {},
   "outputs": [],
   "source": [
    "Revenue_by_store = sqldf('''SELECT store_id AS stores,\n",
    "                                   SUM(((ordered_quantity * amount_per_unit) - ABS(item_discount))) AS Total_Revenue\n",
    "                            FROM df\n",
    "                            GROUP BY store_id\n",
    "                            ORDER BY Total_Revenue DESC\n",
    "                            LIMIT 10''')"
   ]
  },
  {
   "cell_type": "code",
   "execution_count": 20,
   "id": "4c570ebf-7332-4284-83a8-108d211e5c7c",
   "metadata": {},
   "outputs": [
    {
     "data": {
      "image/png": "[encoded data removed]",
      "text/plain": [
       "<Figure size 1000x600 with 1 Axes>"
      ]
     },
     "metadata": {},
     "output_type": "display_data"
    }
   ],
   "source": [
    "plt.figure(figsize=(10,6))\n",
    "plt.bar(Revenue_by_store.stores,Revenue_by_store.Total_Revenue,color='skyblue')\n",
    "plt.xlabel(\"Stores ID\")\n",
    "plt.ylabel(\"Total Revenue\")\n",
    "plt.title(\"Top 10 stores by total Revenue\")\n",
    "plt.xticks(rotation=45)\n",
    "plt.tight_layout()\n",
    "plt.show()"
   ]
  },
  {
   "cell_type": "code",
   "execution_count": 3,
   "id": "22c807f2-dde2-4aa8-8dbf-fc668b2ce579",
   "metadata": {},
   "outputs": [],
   "source": [
    "Revenue_by_store_2 = sqldf('''SELECT store_id AS stores,\n",
    "                                   SUM(((ordered_quantity * amount_per_unit) - ABS(item_discount))) AS Total_Revenue\n",
    "                            FROM df\n",
    "                            GROUP BY store_id\n",
    "                            ORDER BY Total_Revenue \n",
    "                           LIMIT 10 ''')"
   ]
  },
  {
   "cell_type": "code",
   "execution_count": 6,
   "id": "cbf0b7c0-5f22-4797-ba7a-9c323d21d9db",
   "metadata": {},
   "outputs": [
    {
     "data": {
      "image/png": "[encoded data removed]",
      "text/plain": [
       "<Figure size 1000x600 with 1 Axes>"
      ]
     },
     "metadata": {},
     "output_type": "display_data"
    }
   ],
   "source": [
    "plt.figure(figsize=(10,6))\n",
    "plt.bar(Revenue_by_store_2.stores,Revenue_by_store_2.Total_Revenue,color='darkblue')\n",
    "plt.xlabel(\"Stores ID\")\n",
    "plt.ylabel(\"Total Revenue\")\n",
    "plt.title(\"Bottom 10 stores by total Revenue\")\n",
    "plt.xticks(rotation=45)\n",
    "plt.tight_layout()\n",
    "plt.show()"
   ]
  },
  {
   "cell_type": "markdown",
   "id": "fcab3bfd-5b00-4483-85aa-6faec4754fd7",
   "metadata": {},
   "source": [
    "**Minimal Revenue Stores:** Several stores in the dataset exhibit minimal revenue, with total revenue values close to zero. These stores may either be newly established or experiencing challenges in generating significant sales. It is essential to investigate the factors contributing to their low revenue and devise strategies to enhance their performance."
   ]
  },
  {
   "cell_type": "markdown",
   "id": "fc2616bf-e7e9-4539-aba8-a91fa40faab9",
   "metadata": {},
   "source": [
    "**Pie chart illustrating the distribution of orders by warehouse.**"
   ]
  },
  {
   "cell_type": "code",
   "execution_count": 11,
   "id": "b7fbb6b6-dab9-42e8-8fda-0ed19d88497a",
   "metadata": {},
   "outputs": [],
   "source": [
    "Distribution_by_Warehouse = sqldf('''SELECT order_warehouse_id AS Warehouse,\n",
    "                                            COUNT(DISTINCT order_number) AS Distribution_of_orders\n",
    "                                     FROM df\n",
    "                                     GROUP BY order_warehouse_id\n",
    "                                     HAVING Warehouse IS NOT NULL\n",
    "                                     ORDER BY Distribution_of_orders DESC\n",
    "                                    limit 10 ''')"
   ]
  },
  {
   "cell_type": "code",
   "execution_count": 12,
   "id": "83bda5b7-0d33-4c85-be0d-f88919728789",
   "metadata": {},
   "outputs": [
    {
     "data": {
      "image/png": "[encoded data removed]",
      "text/plain": [
       "<Figure size 800x600 with 1 Axes>"
      ]
     },
     "metadata": {},
     "output_type": "display_data"
    }
   ],
   "source": [
    "plt.figure(figsize=(8, 6))\n",
    "plt.pie(Distribution_by_Warehouse.Distribution_of_orders, labels=Distribution_by_Warehouse.Warehouse, autopct='%1.f%%', startangle=140)\n",
    "plt.title('Distribution of Orders by Warehouse', fontsize=16, pad=20)\n",
    "plt.axis('equal')  \n",
    "plt.tight_layout()  \n",
    "plt.show()"
   ]
  },
  {
   "cell_type": "markdown",
   "id": "6febdff3-1d85-42ec-b66d-d6af24eb4abb",
   "metadata": {},
   "source": [
    "### Insights and recommendations"
   ]
  },
  {
   "cell_type": "markdown",
   "id": "12bdb08c-afef-4785-b9ce-83f3e66a306c",
   "metadata": {},
   "source": [
    "**1.Warehouse and Store Performance:**\n",
    "Warehouse **3** has the highest distribution of orders, followed by Warehouse **2**. This indicates that these warehouses are handling a substantial volume of orders, possibly due to their strategic locations or efficient operations.\n",
    "\n",
    "**2.Top Selling Items:** \n",
    "The top-selling item with the ID \"**P2RwFPjdKJ0oFr9OoVmrDRm**\" stands out with a significantly higher quantity sold compared to other items. This suggests a strong demand for this particular product, which could be due to its popularity, competitive pricing. The company should ensure adequate stock availability for this item and consider promoting it further to capitalize on its popularity.\n",
    "\n",
    "**3.Overall Discount Rate:** \n",
    "The overall discount rate is approximately **6520.88**, calculated by averaging all discount values. The company should analyze the impact of discounts on revenue and profitability to optimize pricing strategies effectively.\n",
    "\n",
    "**4.Total Revenue by Store:** \n",
    "The top-performing stores, such as \"**7ldsLx849ptRljYZTK8tl8**\" and \"**2Z9CsLeVlPvooYgQOUjcRI**,\" generate substantial revenue, reflecting their strong sales performance. These stores could serve as benchmarks for performance evaluation and provide insights into successful sales strategies, customer engagement, and product offerings.\n",
    "\n",
    "**5.Month-over-Month Revenue Growth:** \n",
    "Monthly revenue fluctuates over time, with notable peaks and dips in certain months. For example, revenue spikes in February, June and July are followed by a decline in August. Understanding these revenue trends can help the company identify seasonal patterns, respond to market dynamics, and adjust inventory levels and marketing strategies accordingly.\n",
    "\n",
    "**6.Percentage of Orders Cancelled:** \n",
    "Approximately 5.52% of orders were cancelled, indicating potential challenges in order fulfillment or customer satisfaction. The company should investigate the reasons for cancellations, such as inventory shortages, shipping delays, or product unavailability, and implement measures to reduce cancellation rates and improve customer experience."
   ]
  },
  {
   "cell_type": "markdown",
   "id": "2a5a5b69-0d73-447d-ba03-cdfb8e376ef7",
   "metadata": {},
   "source": [
    "### Actionable Recommendations:"
   ]
  },
  {
   "cell_type": "markdown",
   "id": "0a108f89-deb9-4c67-8131-aeaa2125eb67",
   "metadata": {},
   "source": [
    "**1.Optimize Inventory Management:** Allocate inventory based on sales performance and demand to ensure optimal stock levels across warehouses and stores. Focus on replenishing top-selling items and reducing excess inventory for slow-moving products to minimize carrying costs and improve cash flow.\n",
    "\n",
    "**2.Tailor Pricing Strategies:** Analyze the impact of discounts on sales revenue and profitability to refine pricing strategies effectively. Consider implementing dynamic pricing algorithms based on demand elasticity, competitor pricing, and customer segmentation to maximize revenue and maintain competitiveness.\n",
    "\n",
    "**3.Enhance Store Performance:** Support high-performing stores with targeted marketing campaigns, personalized promotions, and staff training to sustain and enhance their sales performance. Leverage insights from top revenue-generating stores to identify best practices and replicate successful strategies across other locations.\n",
    "\n",
    "**4.Improve Order Fulfillment:** Streamline order processing and fulfillment workflows to minimize order cancellations and enhance customer satisfaction. Invest in inventory visibility, logistics optimization, and communication channels to provide real-time updates to customers and address any issues proactively.\n",
    "\n",
    "**5.Monitor Sales Trends:** Continuously monitor sales trends, revenue growth rates, and key performance indicators to identify emerging opportunities and challenges. Utilize data analytics tools to forecast demand, optimize inventory allocation, and capitalize on market trends to drive sustained growth and profitability.\n",
    "\n",
    "By implementing these tailored recommendations and leveraging insights from analysis, the company can optimize sales performance, improve operational efficiency, and enhance customer satisfaction, ultimately driving long-term success and competitiveness in the marke"
   ]
  }
 ],
 "metadata": {
  "kernelspec": {
   "display_name": "Python 3 (ipykernel)",
   "language": "python",
   "name": "python3"
  },
  "language_info": {
   "codemirror_mode": {
    "name": "ipython",
    "version": 3
   },
   "file_extension": ".py",
   "mimetype": "text/x-python",
   "name": "python",
   "nbconvert_exporter": "python",
   "pygments_lexer": "ipython3",
   "version": "3.11.7"
  }
 },
 "nbformat": 4,
 "nbformat_minor": 5
}
